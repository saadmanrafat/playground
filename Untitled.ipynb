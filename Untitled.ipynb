{
 "cells": [
  {
   "cell_type": "code",
   "execution_count": 1,
   "metadata": {},
   "outputs": [],
   "source": [
    "import pandas as pd\n",
    "import numpy as np\n",
    "from sklearn.model_selection import train_test_split as tts\n",
    "from sklearn.preprocessing import LabelEncoder"
   ]
  },
  {
   "cell_type": "code",
   "execution_count": 2,
   "metadata": {},
   "outputs": [],
   "source": [
    "df = pd.read_csv('summer_2018.csv')"
   ]
  },
  {
   "cell_type": "code",
   "execution_count": 3,
   "metadata": {},
   "outputs": [],
   "source": [
    "df = df[df.faculty != 'TBA']"
   ]
  },
  {
   "cell_type": "code",
   "execution_count": 4,
   "metadata": {},
   "outputs": [
    {
     "data": {
      "text/plain": [
       "course     object\n",
       "section     int64\n",
       "faculty    object\n",
       "time       object\n",
       "room       object\n",
       "dtype: object"
      ]
     },
     "execution_count": 4,
     "metadata": {},
     "output_type": "execute_result"
    }
   ],
   "source": [
    "df.dtypes"
   ]
  },
  {
   "cell_type": "code",
   "execution_count": 5,
   "metadata": {},
   "outputs": [],
   "source": [
    "X = df.drop('faculty', axis=1)\n",
    "y = df.faculty"
   ]
  },
  {
   "cell_type": "code",
   "execution_count": 6,
   "metadata": {},
   "outputs": [],
   "source": [
    "X = pd.get_dummies(X)"
   ]
  },
  {
   "cell_type": "code",
   "execution_count": 7,
   "metadata": {},
   "outputs": [],
   "source": [
    "le = LabelEncoder()"
   ]
  },
  {
   "cell_type": "code",
   "execution_count": 8,
   "metadata": {},
   "outputs": [
    {
     "data": {
      "text/plain": [
       "LabelEncoder()"
      ]
     },
     "execution_count": 8,
     "metadata": {},
     "output_type": "execute_result"
    }
   ],
   "source": [
    "le.fit(y)"
   ]
  },
  {
   "cell_type": "code",
   "execution_count": 9,
   "metadata": {},
   "outputs": [],
   "source": [
    "y = le.transform(y)"
   ]
  },
  {
   "cell_type": "code",
   "execution_count": 10,
   "metadata": {},
   "outputs": [
    {
     "data": {
      "text/plain": [
       "array([421, 481, 481, ...,  50, 454, 464], dtype=int64)"
      ]
     },
     "execution_count": 10,
     "metadata": {},
     "output_type": "execute_result"
    }
   ],
   "source": [
    "y"
   ]
  },
  {
   "cell_type": "code",
   "execution_count": 11,
   "metadata": {},
   "outputs": [],
   "source": [
    "X_train, X_test, y_train, y_test = tts(X, y, test_size=0.2, random_state=123)"
   ]
  },
  {
   "cell_type": "code",
   "execution_count": 18,
   "metadata": {},
   "outputs": [],
   "source": [
    "from keras.models import Sequential\n",
    "from keras.layers import Dense\n",
    "from keras.utils import to_categorical"
   ]
  },
  {
   "cell_type": "code",
   "execution_count": 19,
   "metadata": {},
   "outputs": [],
   "source": [
    "model = Sequential()"
   ]
  },
  {
   "cell_type": "code",
   "execution_count": 20,
   "metadata": {},
   "outputs": [],
   "source": [
    "model.add(Dense(units=64, activation='relu', input_shape=(X_train.shape[1],)))\n",
    "model.add(Dense(units=64, activation='relu'))\n",
    "model.add(Dense(units=len(le.classes_), activation='softmax'))"
   ]
  },
  {
   "cell_type": "code",
   "execution_count": 28,
   "metadata": {},
   "outputs": [],
   "source": [
    "model.compile(loss='categorical_crossentropy', optimizer='Adam', metrics=['accuracy'])"
   ]
  },
  {
   "cell_type": "code",
   "execution_count": 31,
   "metadata": {},
   "outputs": [
    {
     "name": "stdout",
     "output_type": "stream",
     "text": [
      "Train on 1683 samples, validate on 421 samples\n",
      "Epoch 1/38\n",
      "1683/1683 [==============================] - 0s 212us/step - loss: 0.0924 - acc: 0.9673 - val_loss: 2.2870 - val_acc: 0.5962\n",
      "Epoch 2/38\n",
      "1683/1683 [==============================] - 0s 198us/step - loss: 0.0909 - acc: 0.9655 - val_loss: 2.3028 - val_acc: 0.6105\n",
      "Epoch 3/38\n",
      "1683/1683 [==============================] - 0s 205us/step - loss: 0.0912 - acc: 0.9643 - val_loss: 2.2900 - val_acc: 0.6081\n",
      "Epoch 4/38\n",
      "1683/1683 [==============================] - 0s 184us/step - loss: 0.0948 - acc: 0.9643 - val_loss: 2.2832 - val_acc: 0.6033\n",
      "Epoch 5/38\n",
      "1683/1683 [==============================] - 0s 174us/step - loss: 0.0957 - acc: 0.9638 - val_loss: 2.3641 - val_acc: 0.6010\n",
      "Epoch 6/38\n",
      "1683/1683 [==============================] - 0s 194us/step - loss: 0.0929 - acc: 0.9661 - val_loss: 2.4472 - val_acc: 0.5819\n",
      "Epoch 7/38\n",
      "1683/1683 [==============================] - 0s 168us/step - loss: 0.0907 - acc: 0.9643 - val_loss: 2.4160 - val_acc: 0.5914\n",
      "Epoch 8/38\n",
      "1683/1683 [==============================] - 0s 196us/step - loss: 0.0920 - acc: 0.9638 - val_loss: 2.4474 - val_acc: 0.6010\n",
      "Epoch 9/38\n",
      "1683/1683 [==============================] - 0s 199us/step - loss: 0.0919 - acc: 0.9679 - val_loss: 2.5889 - val_acc: 0.5701\n",
      "Epoch 10/38\n",
      "1683/1683 [==============================] - 0s 177us/step - loss: 0.0956 - acc: 0.9661 - val_loss: 2.6237 - val_acc: 0.5796\n",
      "Epoch 11/38\n",
      "1683/1683 [==============================] - 0s 192us/step - loss: 0.0922 - acc: 0.9655 - val_loss: 2.7599 - val_acc: 0.5582\n",
      "Epoch 12/38\n",
      "1683/1683 [==============================] - 0s 191us/step - loss: 0.0969 - acc: 0.9673 - val_loss: 2.6965 - val_acc: 0.5487\n",
      "Epoch 13/38\n",
      "1683/1683 [==============================] - 0s 196us/step - loss: 0.0907 - acc: 0.9661 - val_loss: 2.8520 - val_acc: 0.5392\n",
      "Epoch 14/38\n",
      "1683/1683 [==============================] - 0s 190us/step - loss: 0.0971 - acc: 0.9614 - val_loss: 2.8731 - val_acc: 0.5202\n",
      "Epoch 15/38\n",
      "1683/1683 [==============================] - 0s 200us/step - loss: 0.0939 - acc: 0.9667 - val_loss: 2.8117 - val_acc: 0.5344\n",
      "Epoch 16/38\n",
      "1683/1683 [==============================] - 0s 185us/step - loss: 0.0861 - acc: 0.9679 - val_loss: 2.8445 - val_acc: 0.5511\n",
      "Epoch 17/38\n",
      "1683/1683 [==============================] - 0s 196us/step - loss: 0.0930 - acc: 0.9632 - val_loss: 2.8345 - val_acc: 0.5511\n",
      "Epoch 18/38\n",
      "1683/1683 [==============================] - 0s 198us/step - loss: 0.0913 - acc: 0.9673 - val_loss: 2.8151 - val_acc: 0.5487\n",
      "Epoch 19/38\n",
      "1683/1683 [==============================] - 0s 200us/step - loss: 0.0838 - acc: 0.9691 - val_loss: 2.8243 - val_acc: 0.5463\n",
      "Epoch 20/38\n",
      "1683/1683 [==============================] - 0s 281us/step - loss: 0.0843 - acc: 0.9691 - val_loss: 2.8812 - val_acc: 0.5487\n",
      "Epoch 21/38\n",
      "1683/1683 [==============================] - 0s 226us/step - loss: 0.0841 - acc: 0.9697 - val_loss: 2.9617 - val_acc: 0.5439\n",
      "Epoch 22/38\n",
      "1683/1683 [==============================] - 0s 209us/step - loss: 0.0845 - acc: 0.9667 - val_loss: 2.9167 - val_acc: 0.5416\n",
      "Epoch 23/38\n",
      "1683/1683 [==============================] - 0s 215us/step - loss: 0.0820 - acc: 0.9697 - val_loss: 2.9802 - val_acc: 0.5416\n",
      "Epoch 24/38\n",
      "1683/1683 [==============================] - 0s 195us/step - loss: 0.1052 - acc: 0.9655 - val_loss: 3.0128 - val_acc: 0.5392\n",
      "Epoch 25/38\n",
      "1683/1683 [==============================] - 0s 191us/step - loss: 0.0961 - acc: 0.9661 - val_loss: 2.9739 - val_acc: 0.5344\n",
      "Epoch 26/38\n",
      "1683/1683 [==============================] - 0s 216us/step - loss: 0.0859 - acc: 0.9661 - val_loss: 3.0601 - val_acc: 0.5226\n",
      "Epoch 27/38\n",
      "1683/1683 [==============================] - 1s 308us/step - loss: 0.0827 - acc: 0.9667 - val_loss: 3.0729 - val_acc: 0.5273\n",
      "Epoch 28/38\n",
      "1683/1683 [==============================] - 0s 219us/step - loss: 0.0827 - acc: 0.9685 - val_loss: 3.0326 - val_acc: 0.5368\n",
      "Epoch 29/38\n",
      "1683/1683 [==============================] - 0s 206us/step - loss: 0.0812 - acc: 0.9673 - val_loss: 3.0982 - val_acc: 0.5249\n",
      "Epoch 30/38\n",
      "1683/1683 [==============================] - 0s 220us/step - loss: 0.0804 - acc: 0.9679 - val_loss: 3.0350 - val_acc: 0.5368\n",
      "Epoch 31/38\n",
      "1683/1683 [==============================] - 0s 213us/step - loss: 0.0822 - acc: 0.9679 - val_loss: 3.0687 - val_acc: 0.5297\n",
      "Epoch 32/38\n",
      "1683/1683 [==============================] - 0s 220us/step - loss: 0.0802 - acc: 0.9709 - val_loss: 3.1555 - val_acc: 0.5368\n",
      "Epoch 33/38\n",
      "1683/1683 [==============================] - 1s 335us/step - loss: 0.0817 - acc: 0.9691 - val_loss: 3.0939 - val_acc: 0.5249\n",
      "Epoch 34/38\n",
      "1683/1683 [==============================] - 0s 213us/step - loss: 0.0850 - acc: 0.9685 - val_loss: 3.1209 - val_acc: 0.5273\n",
      "Epoch 35/38\n",
      "1683/1683 [==============================] - 0s 217us/step - loss: 0.0800 - acc: 0.9691 - val_loss: 3.1799 - val_acc: 0.5344\n",
      "Epoch 36/38\n",
      "1683/1683 [==============================] - 0s 214us/step - loss: 0.0826 - acc: 0.9679 - val_loss: 3.1606 - val_acc: 0.5321\n",
      "Epoch 37/38\n",
      "1683/1683 [==============================] - 0s 191us/step - loss: 0.0851 - acc: 0.9661 - val_loss: 3.2115 - val_acc: 0.5273\n",
      "Epoch 38/38\n",
      "1683/1683 [==============================] - 0s 202us/step - loss: 0.0820 - acc: 0.9703 - val_loss: 3.1787 - val_acc: 0.5226\n"
     ]
    },
    {
     "data": {
      "text/plain": [
       "<keras.callbacks.History at 0x1e76cfbf908>"
      ]
     },
     "execution_count": 31,
     "metadata": {},
     "output_type": "execute_result"
    }
   ],
   "source": [
    "model.fit(X_train, to_categorical(y_train), epochs=38, validation_split=0.2)"
   ]
  },
  {
   "cell_type": "code",
   "execution_count": null,
   "metadata": {},
   "outputs": [],
   "source": []
  },
  {
   "cell_type": "code",
   "execution_count": null,
   "metadata": {},
   "outputs": [],
   "source": []
  }
 ],
 "metadata": {
  "kernelspec": {
   "display_name": "Python 3",
   "language": "python",
   "name": "python3"
  },
  "language_info": {
   "codemirror_mode": {
    "name": "ipython",
    "version": 3
   },
   "file_extension": ".py",
   "mimetype": "text/x-python",
   "name": "python",
   "nbconvert_exporter": "python",
   "pygments_lexer": "ipython3",
   "version": "3.6.6"
  }
 },
 "nbformat": 4,
 "nbformat_minor": 2
}
